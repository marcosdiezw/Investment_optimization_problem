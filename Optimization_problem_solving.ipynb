{
  "nbformat": 4,
  "nbformat_minor": 0,
  "metadata": {
    "colab": {
      "name": "Optimization_problem_solving.ipynb",
      "provenance": [],
      "collapsed_sections": [],
      "toc_visible": true,
      "authorship_tag": "ABX9TyN1CWBV5GiZzBNCSzYolfrA",
      "include_colab_link": true
    },
    "kernelspec": {
      "name": "python3",
      "display_name": "Python 3"
    },
    "language_info": {
      "name": "python"
    }
  },
  "cells": [
    {
      "cell_type": "markdown",
      "metadata": {
        "id": "view-in-github",
        "colab_type": "text"
      },
      "source": [
        "<a href=\"https://colab.research.google.com/github/marcosdiezw/Investment_optimization_problem/blob/main/Optimization_problem_solving.ipynb\" target=\"_parent\"><img src=\"https://colab.research.google.com/assets/colab-badge.svg\" alt=\"Open In Colab\"/></a>"
      ]
    },
    {
      "cell_type": "markdown",
      "source": [
        "***\n",
        "#  **<center> <font color= purple size=10> Bootcamp de otimização</font>**\n",
        "***"
      ],
      "metadata": {
        "id": "a84x2JyPDr7m"
      }
    },
    {
      "cell_type": "markdown",
      "source": [
        "<center>\n",
        "<img src=\"https://www.enacom.com.br/wp-content/uploads/2021/01/Logo_Enacom.svg\" align=\"middle\" width=\"950\">\n",
        "</center>"
      ],
      "metadata": {
        "id": "8jbiCyQgeVWV"
      }
    },
    {
      "cell_type": "markdown",
      "source": [
        "# Enunciado\n",
        "\n",
        "Considerando um capital para investimento de R$1.000.000 e as seguintes opções de investimento:\n",
        "\n",
        "| **Opção** | **Descrição** | **Custo do investimento (R$)**| **Retorno esperado (R\\$)** |\n",
        "|:----------:|:------------|:-------------------:|:-------------------------:|\n",
        "| 1 | Ampliação da capacidade do armazém ZDP em 5% | 470.000| 410.000 |\n",
        "| 2 | Ampliação da capacidade do armazém MGL em 7% | 400.000| 330.000 |\n",
        "| 3 | Compra de empilhadeira | 170.000| 140.000 |\n",
        "| 4 | Projeto de P&D I | 270.000| 250.000 |\n",
        "| 5 | Projeto de P&D II | 340.000| 320.000 |\n",
        "| 6 | Aquisição de novos equipamentos | 230.000| 320.000 |\n",
        "| 7 | Capacitação de funcionários | 50.000| 90.000 |\n",
        "| 8 | Ampliaçaão da estrutura da carga rodoviária | 440.000| 190.000 |\n",
        "\n",
        "\n",
        "<br>\n",
        "\n",
        "Desenvolva um algoritmo de otimização para seleccionar os projetos que maximizam o retorno total esperado, considerando que:\n",
        "* Se o investimento 1 for selecionado, então o investimento 5 não deve ser;\n",
        "* Se o investimento 2 for selecionado, então o investimento 4 também deve ser."
      ],
      "metadata": {
        "id": "Xmil8bmTlP3-"
      }
    },
    {
      "cell_type": "markdown",
      "source": [
        "# Resolução"
      ],
      "metadata": {
        "id": "WaYLOScJk4pw"
      }
    },
    {
      "cell_type": "markdown",
      "source": [
        "*O arquivo de Power Point para a apresentação se encontra no seguinte link:*\n",
        "\n",
        "https://drive.google.com/file/d/1jkye40O64aLHrkLRzlQad-eZfUtMy5Kb/view\n",
        "\n",
        "***"
      ],
      "metadata": {
        "id": "xJfeQrX5qC7q"
      }
    },
    {
      "cell_type": "markdown",
      "source": [
        "O seguinte algoritmo foi criado para detectar o pacote de investimentos ótimos (ou os pacotes, se forem vários) após receber *quaisquer conjuntos de dados* con os três elementos a seguir: <br>\n",
        "\n",
        "1) Lista do total de investimentos possíveis, com seus números de identificação, descrição, custos e retornos esperados.\n",
        "\n",
        "2) Gasto total máximo (orçamento).\n",
        "\n",
        "3) Restrições.\n"
      ],
      "metadata": {
        "id": "to0wB98DjoDV"
      }
    },
    {
      "cell_type": "code",
      "execution_count": 19,
      "metadata": {
        "id": "uAHa7DuGDrFG"
      },
      "outputs": [],
      "source": [
        "import pandas as pd\n",
        "import numpy as np\n",
        "from itertools import combinations\n",
        "import unittest"
      ]
    },
    {
      "cell_type": "markdown",
      "source": [
        "## Dados de entrada do nosso problema em particular:"
      ],
      "metadata": {
        "id": "0U1nBMOqoa4l"
      }
    },
    {
      "cell_type": "markdown",
      "source": [
        "1) Conjunto de investimentos possíveis:"
      ],
      "metadata": {
        "id": "6HbSCqzPors8"
      }
    },
    {
      "cell_type": "code",
      "source": [
        "proposals = [\n",
        "    [1,'Armazem_ZDP', 470000, 410000],\n",
        "    [2,'Armazem_MGL',400000,330000],\n",
        "    [3,'Compra_empilhadeira',170000,140000],\n",
        "    [4,'P&D_I',270000,250000],\n",
        "    [5,'P&D_II',340000,320000],\n",
        "    [6,'Novos_equipamentos',230000,320000],\n",
        "    [7,'Capacitacao_funcionarios',50000,90000],\n",
        "    [8,'Ampliacao_estr_carga_rod',440000,190000]\n",
        "    ]\n"
      ],
      "metadata": {
        "id": "nFH_NBJgg8tv"
      },
      "execution_count": 20,
      "outputs": []
    },
    {
      "cell_type": "markdown",
      "source": [
        "2) Gasto total máximo"
      ],
      "metadata": {
        "id": "evR8qHI0oxuN"
      }
    },
    {
      "cell_type": "code",
      "source": [
        "max_expenses = 1000000"
      ],
      "metadata": {
        "id": "_IWyyaPioxVE"
      },
      "execution_count": 21,
      "outputs": []
    },
    {
      "cell_type": "markdown",
      "source": [
        "3) Restrições"
      ],
      "metadata": {
        "id": "daMkRfU5o6bz"
      }
    },
    {
      "cell_type": "markdown",
      "source": [
        "Métodos auxiliares:"
      ],
      "metadata": {
        "id": "BwB5OvwjrwvQ"
      }
    },
    {
      "cell_type": "code",
      "source": [
        "  def filter_by_incompatible_elements(unfiltered_combinations, element1, element2):\n",
        "    '''Recebe conjunto de combinações e o par de elementos incompatíves.\n",
        "    Retorna combinações já filtradas'''\n",
        "    warehouse1=[]\n",
        "    for arrangement in unfiltered_combinations:\n",
        "      if (element1 in arrangement) and (element2 in arrangement):\n",
        "        continue\n",
        "      else:\n",
        "        warehouse1.append(arrangement)\n",
        "    return(warehouse1)  \n",
        "  \n",
        "  def filter_by_dependents_elements(unfiltered_combinations,independent_element,dependent_element,):\n",
        "    warehouse2=[]\n",
        "    '''Recebe conjunto de combinações, um elemento possível e outro que necesariamente deve\n",
        "    estar na combinação se está presente o primeiro. Retorna combinações já filtradas'''\n",
        "    for arrangement in unfiltered_combinations:\n",
        "      if (independent_element in arrangement) and (dependent_element not in arrangement):\n",
        "        continue\n",
        "      else:\n",
        "        warehouse2.append(arrangement)\n",
        "    return(warehouse2)\n",
        "  \n"
      ],
      "metadata": {
        "id": "V52za04-cdzf"
      },
      "execution_count": 22,
      "outputs": []
    },
    {
      "cell_type": "code",
      "source": [
        "# Constraints, própriamente:\n",
        "\n",
        "constraint1 = [filter_by_incompatible_elements, 1,5]\n",
        "constraint2 = [filter_by_dependents_elements, 2, 4]\n",
        "\n",
        "constraints_group = [constraint1, constraint2]"
      ],
      "metadata": {
        "id": "CJnGAAhRcZ9x"
      },
      "execution_count": 23,
      "outputs": []
    },
    {
      "cell_type": "markdown",
      "source": [
        "## Classes"
      ],
      "metadata": {
        "id": "YCJXedjxxOf4"
      }
    },
    {
      "cell_type": "code",
      "source": [
        "# Classe investimento. Os objetos dessa classe são cada um dos investimentos unitários.\n",
        "\n",
        "class Investment:\n",
        "  def __init__(self,identifier_number,description,cost, gain):\n",
        "    self._identifier_number = identifier_number\n",
        "    self._description = description\n",
        "    self._cost = cost\n",
        "    self._gain = gain\n",
        "  \n",
        "  @property \n",
        "  def identifier_number(self) -> int:\n",
        "    return self._identifier_number\n",
        "\n",
        "  @property \n",
        "  def description(self) -> str:\n",
        "    return self._description\n",
        "  \n",
        "  @property \n",
        "  def cost(self) -> int:\n",
        "    return self._cost\n",
        "  \n",
        "  @property \n",
        "  def gain(self) -> int:\n",
        "    return self._gain"
      ],
      "metadata": {
        "id": "4Jglz2a3JXb7"
      },
      "execution_count": 24,
      "outputs": []
    },
    {
      "cell_type": "code",
      "source": [
        "# Classe pacote de investimentos. Os objetos da classe são pacotes de investimentos.\n",
        "\n",
        "class InvestmentPackage:\n",
        "  def __init__(self,combination,budget,profit):\n",
        "    self._combination = combination\n",
        "    self._budget = budget\n",
        "    self._profit = profit\n",
        "\n",
        "  @property\n",
        "  def combination(self) -> list:\n",
        "    return self._combination\n",
        "  \n",
        "  @property\n",
        "  def budget(self) -> float:\n",
        "    return self._budget\n",
        "  \n",
        "  @property\n",
        "  def profit(self) -> float:\n",
        "    return self._profit"
      ],
      "metadata": {
        "id": "8uOML3NLxHAs"
      },
      "execution_count": 25,
      "outputs": []
    },
    {
      "cell_type": "code",
      "source": [
        "# Classe Cojunto de investimentos. Os objetos são compostos por vetores do tipo:\n",
        "# [conjunto_de_investimentos, gasto_máximo_permitido, restrições]\n",
        "\n",
        "class InvestmentsSet:\n",
        "  def __init__(self,investments_set,max_spending, constraints):\n",
        "    self._investments_set = investments_set\n",
        "    self._max_spending = max_spending\n",
        "    self._constraints = constraints\n",
        "\n",
        "  @property\n",
        "  def investments_set(self):\n",
        "    return self._investments_set\n",
        "\n",
        "  @property\n",
        "  def max_spending(self):\n",
        "    return self._max_spending\n",
        "  \n",
        "  @property\n",
        "  def constraints(self):\n",
        "    return self._constraints\n",
        "\n",
        "\n",
        "  @property\n",
        "  def get_elements_combinations(self,):\n",
        "    vector = np.array(self.investments_set)\n",
        "    numbers_vector = vector[:,0]\n",
        "    numbers_vector = numbers_vector.astype(int)\n",
        "    numbers = list(numbers_vector)\n",
        "    return numbers\n",
        " \n",
        "  @property\n",
        "  def min_number_elements(self):\n",
        "    vector = np.array(self.investments_set)\n",
        "    costs_vector = vector[:,2]\n",
        "    costs_vector = costs_vector.astype(int)\n",
        "    costs = list(costs_vector)\n",
        "    costs.sort(reverse=True)\n",
        "    capacity = 0\n",
        "    n=0\n",
        "    for t in costs:\n",
        "      if capacity + t <= self.max_spending:\n",
        "        capacity = capacity + t\n",
        "        n+=1\n",
        "      else:\n",
        "        break\n",
        "    return n\n",
        "\n",
        "  @property\n",
        "  def max_number_elements(self):\n",
        "    vector = np.array(self.investments_set)\n",
        "    costs_vector = vector[:,2]\n",
        "    costs_vector = costs_vector.astype(int)\n",
        "    costs = list(costs_vector)\n",
        "    costs.sort(reverse=False)\n",
        "    capacity = 0\n",
        "    m=0\n",
        "    for t in costs:\n",
        "      if capacity + t <= self.max_spending:\n",
        "        capacity = capacity + t\n",
        "        m+=1\n",
        "      else:\n",
        "        break\n",
        "    return m\n",
        "\n",
        "  @property\n",
        "  def combine(self):\n",
        "    '''Recebe conjunto de investimentos, gasto máximo e restrições.\n",
        "    Retorna todas as combinações possíveis dos números de identificação.'''\n",
        "    combinations_group = []\n",
        "    for u in range (self.min_number_elements, self.max_number_elements + 1):\n",
        "      n_elements_combinations = combinations(self.get_elements_combinations,u)\n",
        "      for combination in n_elements_combinations:\n",
        "        combination_i = list(combination)\n",
        "        combinations_group.append(combination_i)\n",
        "    return combinations_group\n",
        "  \n",
        "  def enforce_constraints(self,combinations_group):\n",
        "    '''Recebe conjunto de combinações. Retorna outro conjunto filtrado segundo as restrições'''\n",
        "    restricted_combinations = combinations_group\n",
        "    for constraint in self.constraints:\n",
        "      restricted_combinations = (constraint[0])(restricted_combinations, constraint[1], constraint[2])\n",
        "    return restricted_combinations\n",
        "  \n",
        "  @staticmethod\n",
        "  def detaile_package(investment_set, combination):\n",
        "    '''Recebe conjunto de investimentos unitários e combinações.\n",
        "    Retorna pacotes de investimentos detalhados'''\n",
        "    budget = 0\n",
        "    profit = 0\n",
        "    for a in combination:\n",
        "      budget = budget + investment_set[a-1][2]\n",
        "      profit = profit + investment_set[a-1][3]\n",
        "    package = [combination, budget, profit]\n",
        "    return(package)\n",
        "\n",
        "\n",
        "  def detail_all_packages(self, combinations_group):\n",
        "    detailed_packages = []\n",
        "    for combination in combinations_group:\n",
        "      detailed_investment = self.detaile_package(self.investments_set, combination)\n",
        "      detailed_packages.append(detailed_investment)\n",
        "    return(detailed_packages)\n",
        "  \n",
        "  def remove_off_budget_packages(self, detailed_packages):\n",
        "    '''Recebe pacotes de investimentos detalhados. Remove pacotes fora do orçamento e\n",
        "    retorno pacotes dentro do orçamento'''\n",
        "    warehouse = []\n",
        "    for investment_package in detailed_packages:\n",
        "      if investment_package[1] > self.max_spending:\n",
        "        continue\n",
        "      else:\n",
        "        warehouse.append(investment_package)\n",
        "    return(warehouse)\n",
        "  \n",
        "  def optimize(self, on_budget_packages):\n",
        "    '''Recebe um conjunto de pacotes de investimentos detalhados\n",
        "    e retorna o ótimo'''\n",
        "    optimal_profit = 0\n",
        "    optimal_cost = 0\n",
        "    optimal = []\n",
        "    several_optimals = []\n",
        "    for package in on_budget_packages:\n",
        "      if package[2] < optimal_profit:\n",
        "        continue\n",
        "      elif package[2] > optimal_profit:\n",
        "        optimal_profit = package[2]\n",
        "        optimal_cost = package[1]\n",
        "        optimal = package\n",
        "        several_optimals = []\n",
        "        several_optimals.append(package)\n",
        "      elif package[2] == optimal_profit:\n",
        "        if package[1] > optimal_cost:\n",
        "          continue\n",
        "        elif package[1] == optimal_cost:\n",
        "          several_optimals.append(package)\n",
        "    if len(several_optimals) > 1:\n",
        "      return several_optimals\n",
        "    else:\n",
        "      return optimal\n",
        "    \n",
        "  def get_optimal(self):\n",
        "    '''Recebe um conjunto de investimentos unitarios, o gasto máximo e\n",
        "    e retorna a combinação de investimentos ótima'''\n",
        "    filtered_packages = self.enforce_constraints(self.combine)\n",
        "    detailed_packages = self.detail_all_packages(filtered_packages)\n",
        "    on_budget_packages = self.remove_off_budget_packages(detailed_packages)\n",
        "    return self.optimize(on_budget_packages)\n",
        "\n"
      ],
      "metadata": {
        "id": "3ZBft1NjMK9U"
      },
      "execution_count": 26,
      "outputs": []
    },
    {
      "cell_type": "markdown",
      "source": [
        "## Sequência de resolução"
      ],
      "metadata": {
        "id": "q5f7_8UIxWHB"
      }
    },
    {
      "cell_type": "code",
      "source": [
        "# A partir das informações de entrada são extraidos os números de identificação,\n",
        "# as quantidades mínima e máxima de elementos por combinação e\n",
        "# as combinações possíveis.\n",
        "\n",
        "combinaveis = InvestmentsSet(proposals,max_expenses,constraints_group)\n",
        "\n",
        "numeros = combinaveis.get_elements_combinations\n",
        "q_max = combinaveis.max_number_elements\n",
        "q_min = combinaveis.min_number_elements\n",
        "\n",
        "print('Elementos:',numeros,\n",
        "      '\\nQuantidade mínima de elementos por combinação:',q_min,\n",
        "      '\\nQuantidade máxima de elementos por combinação:',q_max)"
      ],
      "metadata": {
        "colab": {
          "base_uri": "https://localhost:8080/"
        },
        "id": "LW3ICnWXSpdP",
        "outputId": "f3009fd0-4866-48b5-bf00-065436849309"
      },
      "execution_count": 27,
      "outputs": [
        {
          "output_type": "stream",
          "name": "stdout",
          "text": [
            "Elementos: [1, 2, 3, 4, 5, 6, 7, 8] \n",
            "Quantidade mínima de elementos por combinação: 2 \n",
            "Quantidade máxima de elementos por combinação: 4\n"
          ]
        }
      ]
    },
    {
      "cell_type": "code",
      "source": [
        "combinacoes = combinaveis.combine\n",
        "print(combinacoes)"
      ],
      "metadata": {
        "id": "Lr157coKp3az",
        "colab": {
          "base_uri": "https://localhost:8080/"
        },
        "outputId": "a74017e9-6165-45dd-b9e4-aa181677038e"
      },
      "execution_count": 28,
      "outputs": [
        {
          "output_type": "stream",
          "name": "stdout",
          "text": [
            "[[1, 2], [1, 3], [1, 4], [1, 5], [1, 6], [1, 7], [1, 8], [2, 3], [2, 4], [2, 5], [2, 6], [2, 7], [2, 8], [3, 4], [3, 5], [3, 6], [3, 7], [3, 8], [4, 5], [4, 6], [4, 7], [4, 8], [5, 6], [5, 7], [5, 8], [6, 7], [6, 8], [7, 8], [1, 2, 3], [1, 2, 4], [1, 2, 5], [1, 2, 6], [1, 2, 7], [1, 2, 8], [1, 3, 4], [1, 3, 5], [1, 3, 6], [1, 3, 7], [1, 3, 8], [1, 4, 5], [1, 4, 6], [1, 4, 7], [1, 4, 8], [1, 5, 6], [1, 5, 7], [1, 5, 8], [1, 6, 7], [1, 6, 8], [1, 7, 8], [2, 3, 4], [2, 3, 5], [2, 3, 6], [2, 3, 7], [2, 3, 8], [2, 4, 5], [2, 4, 6], [2, 4, 7], [2, 4, 8], [2, 5, 6], [2, 5, 7], [2, 5, 8], [2, 6, 7], [2, 6, 8], [2, 7, 8], [3, 4, 5], [3, 4, 6], [3, 4, 7], [3, 4, 8], [3, 5, 6], [3, 5, 7], [3, 5, 8], [3, 6, 7], [3, 6, 8], [3, 7, 8], [4, 5, 6], [4, 5, 7], [4, 5, 8], [4, 6, 7], [4, 6, 8], [4, 7, 8], [5, 6, 7], [5, 6, 8], [5, 7, 8], [6, 7, 8], [1, 2, 3, 4], [1, 2, 3, 5], [1, 2, 3, 6], [1, 2, 3, 7], [1, 2, 3, 8], [1, 2, 4, 5], [1, 2, 4, 6], [1, 2, 4, 7], [1, 2, 4, 8], [1, 2, 5, 6], [1, 2, 5, 7], [1, 2, 5, 8], [1, 2, 6, 7], [1, 2, 6, 8], [1, 2, 7, 8], [1, 3, 4, 5], [1, 3, 4, 6], [1, 3, 4, 7], [1, 3, 4, 8], [1, 3, 5, 6], [1, 3, 5, 7], [1, 3, 5, 8], [1, 3, 6, 7], [1, 3, 6, 8], [1, 3, 7, 8], [1, 4, 5, 6], [1, 4, 5, 7], [1, 4, 5, 8], [1, 4, 6, 7], [1, 4, 6, 8], [1, 4, 7, 8], [1, 5, 6, 7], [1, 5, 6, 8], [1, 5, 7, 8], [1, 6, 7, 8], [2, 3, 4, 5], [2, 3, 4, 6], [2, 3, 4, 7], [2, 3, 4, 8], [2, 3, 5, 6], [2, 3, 5, 7], [2, 3, 5, 8], [2, 3, 6, 7], [2, 3, 6, 8], [2, 3, 7, 8], [2, 4, 5, 6], [2, 4, 5, 7], [2, 4, 5, 8], [2, 4, 6, 7], [2, 4, 6, 8], [2, 4, 7, 8], [2, 5, 6, 7], [2, 5, 6, 8], [2, 5, 7, 8], [2, 6, 7, 8], [3, 4, 5, 6], [3, 4, 5, 7], [3, 4, 5, 8], [3, 4, 6, 7], [3, 4, 6, 8], [3, 4, 7, 8], [3, 5, 6, 7], [3, 5, 6, 8], [3, 5, 7, 8], [3, 6, 7, 8], [4, 5, 6, 7], [4, 5, 6, 8], [4, 5, 7, 8], [4, 6, 7, 8], [5, 6, 7, 8]]\n"
          ]
        }
      ]
    },
    {
      "cell_type": "code",
      "source": [
        "# Combinações com os filtros das restrições aplicados.\n",
        "\n",
        "combinacoes_filtradas = combinaveis.enforce_constraints(combinacoes)\n",
        "len(combinacoes_filtradas)"
      ],
      "metadata": {
        "id": "u__RrH4BgqhV",
        "colab": {
          "base_uri": "https://localhost:8080/"
        },
        "outputId": "4092dd0e-e89a-4a09-9a09-c5cafdd592e0"
      },
      "execution_count": 29,
      "outputs": [
        {
          "output_type": "execute_result",
          "data": {
            "text/plain": [
              "96"
            ]
          },
          "metadata": {},
          "execution_count": 29
        }
      ]
    },
    {
      "cell_type": "code",
      "source": [
        "# Aplicándose o método detail_all_packages são obtidos os pacotes de investimento\n",
        "# com os respetivos custos totais e retornos totais esperados.\n",
        "\n",
        "pacotes_detalhados = combinaveis.detail_all_packages(combinacoes_filtradas)\n",
        "len(pacotes_detalhados)"
      ],
      "metadata": {
        "id": "Tyivxp7xA46t",
        "colab": {
          "base_uri": "https://localhost:8080/"
        },
        "outputId": "a87f45e7-a7b0-4142-b7e8-0a39ed1fa2a9"
      },
      "execution_count": 30,
      "outputs": [
        {
          "output_type": "execute_result",
          "data": {
            "text/plain": [
              "96"
            ]
          },
          "metadata": {},
          "execution_count": 30
        }
      ]
    },
    {
      "cell_type": "code",
      "source": [
        "# Com base de entrada nos três elementos fundamentais da classe (gasto máximo incluso) \n",
        "# e o conjunto particular de pacotes detalhados,\n",
        "# é aplicada a remoção de elementos fora do orçamento.\n",
        "pacotes_no_orcamento = combinaveis.remove_off_budget_packages(pacotes_detalhados)\n",
        "len(pacotes_no_orcamento)"
      ],
      "metadata": {
        "id": "CqabTLDDnajE",
        "colab": {
          "base_uri": "https://localhost:8080/"
        },
        "outputId": "bdfcd542-51e0-4ca5-df54-be3361046e09"
      },
      "execution_count": 31,
      "outputs": [
        {
          "output_type": "execute_result",
          "data": {
            "text/plain": [
              "61"
            ]
          },
          "metadata": {},
          "execution_count": 31
        }
      ]
    },
    {
      "cell_type": "code",
      "source": [
        "# Recebendo os pacotes dentro do orçamento, o método optimize acha o pacote ótimo.\n",
        "otimo = combinaveis.optimize(pacotes_no_orcamento)\n",
        "print(otimo)"
      ],
      "metadata": {
        "id": "R3BOg2oTXPFK",
        "colab": {
          "base_uri": "https://localhost:8080/"
        },
        "outputId": "1cd50226-d478-4649-ce63-4fc831d87775"
      },
      "execution_count": 32,
      "outputs": [
        {
          "output_type": "stream",
          "name": "stdout",
          "text": [
            "[[2, 4, 6, 7], 950000, 990000]\n"
          ]
        }
      ]
    },
    {
      "cell_type": "code",
      "source": [
        "# Utilizando o método get_optimal é obtido o pacote de investimentos ótimo,\n",
        "# só recebendo as informações de entrada.\n",
        "\n",
        "InvestmentsSet(proposals,max_expenses,constraints_group).get_optimal()"
      ],
      "metadata": {
        "id": "Vk3ZOljRjhGY",
        "colab": {
          "base_uri": "https://localhost:8080/"
        },
        "outputId": "937e2b93-acb1-4fd7-e4bd-077444459e9c"
      },
      "execution_count": 33,
      "outputs": [
        {
          "output_type": "execute_result",
          "data": {
            "text/plain": [
              "[[2, 4, 6, 7], 950000, 990000]"
            ]
          },
          "metadata": {},
          "execution_count": 33
        }
      ]
    },
    {
      "cell_type": "markdown",
      "source": [
        "## Testes"
      ],
      "metadata": {
        "id": "BspfEQjWMqCh"
      }
    },
    {
      "cell_type": "code",
      "source": [
        "fake_set1 = [\n",
        "    [1, 'investimento1', 90, 60],\n",
        "    [2, 'investimento2', 50, 20],\n",
        "    [3, 'investimento3', 30, 20],\n",
        "    [4, 'investimento1', 40, 30]\n",
        "    ]\n",
        "\n",
        "fake_set2 = [\n",
        "    [1, 'investimento1', 100, 60],\n",
        "    [2, 'investimento2', 50, 20],\n",
        "    [3, 'investimento3', 80, 20]\n",
        "    ]\n",
        "\n",
        "fake_budget = 150\n",
        "\n",
        "fake_constraints = [constraint1, constraint2]\n",
        "\n",
        "fake_combinations = [[1,5],[2,3],[2,4]]\n",
        "\n",
        "fake_packages = [[1,2],[2,3,4]]\n",
        "\n",
        "fake_detailed_package = [[[1,2,3],170,100],[[2,3,4],120,70],[[1,4],130,90]]\n",
        "\n",
        "fake_on_budget_package = [[[2,3,4],120,70],[[1,4],130,90]]"
      ],
      "metadata": {
        "id": "uBCW4WjXShjX"
      },
      "execution_count": 34,
      "outputs": []
    },
    {
      "cell_type": "code",
      "source": [
        "class TestInvestmentsSet(unittest.TestCase):\n",
        "  def setUp(self):\n",
        "    self.Investments1 = InvestmentsSet(fake_set1, fake_budget, fake_constraints)\n",
        "    self.Investments2 = InvestmentsSet(fake_set2, fake_budget, fake_constraints)\n",
        "\n",
        "  def test_get_elements_combinations(self):\n",
        "    self.assertEqual(self.Investments1.get_elements_combinations, [1,2,3,4])\n",
        "  \n",
        "  def test_min_number_elements(self):\n",
        "    self.assertEqual(self.Investments1.min_number_elements, 2)\n",
        "  \n",
        "  def test_max_number_elements(self):\n",
        "    self.assertEqual(self.Investments1.max_number_elements, 3)\n",
        "  \n",
        "  def test_combine(self):\n",
        "    self.assertEqual(self.Investments2.combine, [[1],[2],[3],[1,2],[1,3],[2,3]])\n",
        "  \n",
        "  def test_enforce_constraints(self):\n",
        "    self.assertEqual(self.Investments1.enforce_constraints(fake_combinations), [[2,4]])\n",
        "  \n",
        "  def test_detail_all_packages(self):\n",
        "    self.assertEqual(self.Investments1.detail_all_packages(fake_packages), [[[1,2],140,80],[[2,3,4],120,70]])\n",
        "  \n",
        "  def test_remove_off_budget_package(self):\n",
        "    self.assertEqual(self.Investments1.remove_off_budget_packages(fake_detailed_package), [[[2,3,4],120,70],[[1,4],130,90]])\n",
        "  \n",
        "  def test_optimize(self):\n",
        "    self.assertEqual(self.Investments1.optimize(fake_on_budget_package), [[1,4],130,90])\n",
        "\n",
        "  def test_get_optimal(self):\n",
        "    self.assertEqual(self.Investments1.get_optimal(), [[1,4],130,90])\n",
        "\n",
        " \n",
        "if __name__ == '__name__':\n",
        "  unittest.main()"
      ],
      "metadata": {
        "id": "tf8d9HV3qwxS"
      },
      "execution_count": 42,
      "outputs": []
    },
    {
      "cell_type": "code",
      "source": [
        "unittest.main(argv=[''], verbosity=2, exit=False)"
      ],
      "metadata": {
        "id": "C-WT8tObO8dC",
        "outputId": "63be5991-c708-49b7-88db-d7e72ebfb6e6",
        "colab": {
          "base_uri": "https://localhost:8080/"
        }
      },
      "execution_count": 43,
      "outputs": [
        {
          "output_type": "stream",
          "name": "stderr",
          "text": [
            "test_combine (__main__.TestInvestmentsSet) ... ok\n",
            "test_detail_all_packages (__main__.TestInvestmentsSet) ... ok\n",
            "test_enforce_constraints (__main__.TestInvestmentsSet) ... ok\n",
            "test_get_elements_combinations (__main__.TestInvestmentsSet) ... ok\n",
            "test_get_optimal (__main__.TestInvestmentsSet) ... ok\n",
            "test_max_number_elements (__main__.TestInvestmentsSet) ... ok\n",
            "test_min_number_elements (__main__.TestInvestmentsSet) ... ok\n",
            "test_optimize (__main__.TestInvestmentsSet) ... ok\n",
            "test_remove_off_budget_package (__main__.TestInvestmentsSet) ... ok\n",
            "\n",
            "----------------------------------------------------------------------\n",
            "Ran 9 tests in 0.021s\n",
            "\n",
            "OK\n"
          ]
        },
        {
          "output_type": "execute_result",
          "data": {
            "text/plain": [
              "<unittest.main.TestProgram at 0x7f74f42df110>"
            ]
          },
          "metadata": {},
          "execution_count": 43
        }
      ]
    }
  ]
}